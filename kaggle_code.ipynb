{
 "cells": [
  {
   "cell_type": "code",
   "execution_count": null,
   "metadata": {},
   "outputs": [],
   "source": [
    "# code from kaggle kernel to get relevant\n",
    "# info from giant US flight database found at \n",
    "# kaggle.com/flashgordon/usa-airport-dataset\n",
    "\n",
    "import os\n",
    "\n",
    "airports = pd.read_csv('/kaggle/input/usa-airport-dataset/Airports2.csv')\n",
    "\n",
    "airports.drop(columns=['Origin_city', 'Destination_city', 'Passengers', \n",
    "                       'Seats', 'Flights', 'Fly_date', 'Org_airport_lat', \n",
    "                       'Org_airport_long', 'Dest_airport_lat','Dest_airport_long'], \n",
    "                       inplace=True)\n",
    "airports.drop_duplicates(inplace=True)"
   ]
  },
  {
   "cell_type": "code",
   "execution_count": null,
   "metadata": {},
   "outputs": [],
   "source": [
    "os.chdir(r'/kaggle/working')\n",
    "airports.to_csv(r'airports.csv')"
   ]
  },
  {
   "cell_type": "code",
   "execution_count": null,
   "metadata": {},
   "outputs": [],
   "source": [
    "from IPython.display import FileLink\n",
    "\n",
    "# use wget to download file from output link\n",
    "FileLink(r'airports.csv')"
   ]
  }
 ],
 "metadata": {
  "kernelspec": {
   "display_name": "Python 3",
   "language": "python",
   "name": "python3"
  },
  "language_info": {
   "codemirror_mode": {
    "name": "ipython",
    "version": 3
   },
   "file_extension": ".py",
   "mimetype": "text/x-python",
   "name": "python",
   "nbconvert_exporter": "python",
   "pygments_lexer": "ipython3",
   "version": "3.7.4"
  }
 },
 "nbformat": 4,
 "nbformat_minor": 2
}
